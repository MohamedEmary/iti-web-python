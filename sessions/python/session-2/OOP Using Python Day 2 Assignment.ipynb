{
 "cells": [
  {
   "cell_type": "markdown",
   "metadata": {},
   "source": [
    "# Python Lab 2\n"
   ]
  },
  {
   "cell_type": "markdown",
   "metadata": {},
   "source": [
    "## Question 1\n",
    "\n",
    "> Write a Python function to check whether a number falls in a given range.\n",
    ">\n",
    "> - Range (-5, 5) return `True`\n"
   ]
  },
  {
   "cell_type": "code",
   "execution_count": 1,
   "metadata": {},
   "outputs": [
    {
     "name": "stdout",
     "output_type": "stream",
     "text": [
      "True\n",
      "False\n",
      "True\n"
     ]
    }
   ],
   "source": [
    "def isInRange(n: float, r: list):\n",
    "    if (n >= r[0] and n <= r[1]):\n",
    "        return True\n",
    "    return False\n",
    "\n",
    "\n",
    "print(isInRange(3, [1, 5]))\n",
    "print(isInRange(6, [1, 5]))\n",
    "print(isInRange(3, [1, 3]))"
   ]
  },
  {
   "cell_type": "markdown",
   "metadata": {},
   "source": [
    "## Question 2\n",
    "\n",
    "> Write a Python program to convert two lists into a dictionary in a way that item from `list1` is the key and item from `list2` is the value.\n"
   ]
  },
  {
   "cell_type": "code",
   "execution_count": 2,
   "metadata": {},
   "outputs": [
    {
     "data": {
      "text/plain": [
       "{'name': 'Mohamed', 'age': 25, 'job': 'Engineer'}"
      ]
     },
     "execution_count": 2,
     "metadata": {},
     "output_type": "execute_result"
    }
   ],
   "source": [
    "def listToDict(l1, l2):\n",
    "    if (len(l1) != len(l2)):\n",
    "        return \"Both lists must have the same length\"\n",
    "    return {v: k for v, k in zip(l1, l2)}\n",
    "\n",
    "\n",
    "l1 = ['name', 'age', 'job']\n",
    "l2 = ['Mohamed', 25, 'Engineer']\n",
    "listToDict(l1, l2)"
   ]
  },
  {
   "cell_type": "markdown",
   "metadata": {},
   "source": [
    "## Question 3\n",
    "\n",
    "> Write a Python function to create and print a list where the values are square of numbers between 1 and 30 (both included).\n"
   ]
  },
  {
   "cell_type": "code",
   "execution_count": 3,
   "metadata": {},
   "outputs": [
    {
     "name": "stdout",
     "output_type": "stream",
     "text": [
      "[1, 4, 9, 16, 25, 36, 49, 64, 81, 100, 121, 144, 169, 196, 225, 256, 289, 324, 361, 400, 441, 484, 529, 576, 625, 676, 729, 784, 841, 900]\n"
     ]
    }
   ],
   "source": [
    "def get1to30sq():\n",
    "    return [i**2 for i in range(1, 31)]\n",
    "\n",
    "\n",
    "print(get1to30sq())"
   ]
  },
  {
   "cell_type": "markdown",
   "metadata": {},
   "source": [
    "## Question 4\n",
    "\n",
    "> Write a Program that takes a list of 5 numbers `[3, 6, 4, 0, 8]` then:\n",
    ">\n",
    "> - a. Remove the last element in the list.\n",
    "> - b. Add `'R'` in the second place.\n",
    "> - c. Ask the user to input a specific number in the list then delete it (by taking the list element, not index).\n"
   ]
  },
  {
   "cell_type": "code",
   "execution_count": 4,
   "metadata": {},
   "outputs": [
    {
     "name": "stdout",
     "output_type": "stream",
     "text": [
      "[1, 2, 'R', 4]\n",
      "Invalid input\n"
     ]
    }
   ],
   "source": [
    "def manipulateList(l: list):\n",
    "    if (len(l) != 5 or not all([(type(num) in [int, float]) for num in l])):\n",
    "        return \"Invalid input\"\n",
    "    l.pop()\n",
    "    l.insert(2, 'R')\n",
    "    l.remove(float(input('Which number do you want to remove')))\n",
    "    return l\n",
    "\n",
    "\n",
    "l = [1, 2, 3, 4, 5]\n",
    "print(manipulateList(l))\n",
    "\n",
    "l = [1, 2, 3, 4, '5']\n",
    "print(manipulateList(l))"
   ]
  },
  {
   "cell_type": "markdown",
   "metadata": {},
   "source": [
    "## Question 5\n",
    "\n",
    "> Create 2 dictionaries and append the two into one (taking into consideration unique keys).\n"
   ]
  },
  {
   "cell_type": "code",
   "execution_count": 5,
   "metadata": {},
   "outputs": [
    {
     "name": "stdout",
     "output_type": "stream",
     "text": [
      "{'a': 1, 'b': 2, 'c': 3, 'd': 4, 'a2': 5}\n"
     ]
    }
   ],
   "source": [
    "def mergeDict(d1, d2):\n",
    "    for k, v in d2.items():\n",
    "        if (k not in d1.keys()):\n",
    "            d1[k] = v\n",
    "        else:\n",
    "            d1[f'{k}2'] = v\n",
    "    return d1\n",
    "\n",
    "\n",
    "d1 = {'a': 1, 'b': 2}\n",
    "d2 = {'c': 3, 'd': 4, 'a': 5}\n",
    "print(mergeDict(d1, d2))"
   ]
  }
 ],
 "metadata": {
  "kernelspec": {
   "display_name": "Python 3",
   "language": "python",
   "name": "python3"
  },
  "language_info": {
   "codemirror_mode": {
    "name": "ipython",
    "version": 3
   },
   "file_extension": ".py",
   "mimetype": "text/x-python",
   "name": "python",
   "nbconvert_exporter": "python",
   "pygments_lexer": "ipython3",
   "version": "3.11.9"
  }
 },
 "nbformat": 4,
 "nbformat_minor": 2
}
