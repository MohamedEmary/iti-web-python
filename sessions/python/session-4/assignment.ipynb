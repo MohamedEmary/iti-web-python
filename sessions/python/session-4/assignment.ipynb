{
 "cells": [
  {
   "cell_type": "markdown",
   "metadata": {},
   "source": [
    "# Queue Data Structure\n",
    "\n",
    "A Queue is a linear structure which follows a particular order in which the operations are performed. The order is First In First Out (FIFO). A good example of a queue is any queue of consumers for a resource where the consumer that came first is served first.\n",
    "\n",
    "## Queue class 1\n",
    "\n",
    "We need to implement a Python class that represents the queue data structure. The class should have these operations:\n",
    "\n",
    "   - `insert(value)`: Inserts a new value at the rear of the queue.\n",
    "   - `pop()`: Returns and removes a value from the front of the queue. We should return `None` and print a warning message if we try to pop a value from an empty queue.\n",
    "   - `is_empty()`: Returns `True` or `False` to represent whether the queue is empty or not.\n"
   ]
  },
  {
   "cell_type": "code",
   "execution_count": 18,
   "metadata": {},
   "outputs": [
    {
     "name": "stdout",
     "output_type": "stream",
     "text": [
      "[3, 4, 5]\n",
      "False\n",
      "[5]\n",
      "False\n",
      "True\n"
     ]
    }
   ],
   "source": [
    "class Queue:\n",
    "  def __init__(self):\n",
    "    self.queue = []\n",
    "  def\tinsert(self,val):\n",
    "    self.queue.append(val)\n",
    "  def pop(self):\n",
    "    if len(self.queue) == 0:\n",
    "      print(\"Can't pop from an empty queue\")\n",
    "      return None\n",
    "    else: self.queue.pop(0)\n",
    "  def is_empty(self):\n",
    "    return len(self.queue) == 0\n",
    "  def getQueue(self):\n",
    "    return self.queue\n",
    "\n",
    "\n",
    "q1 = Queue()\n",
    "q1.insert(1)\n",
    "q1.insert(2)\n",
    "q1.insert(3)\n",
    "\n",
    "q1.pop()\n",
    "q1.pop()\n",
    "\n",
    "q1.insert(4)\n",
    "q1.insert(5)\n",
    "print(q1.getQueue())\n",
    "\n",
    "print(q1.is_empty())\n",
    "q1.pop()\n",
    "q1.pop()\n",
    "print(q1.getQueue())\n",
    "print(q1.is_empty())\n",
    "\n",
    "q1.pop()\n",
    "print(q1.is_empty())"
   ]
  },
  {
   "cell_type": "markdown",
   "metadata": {},
   "source": [
    "\n",
    "## Queue class 2\n",
    "\n",
    "We need to implement another queue class that has the same properties as the previous but with the following changes:\n",
    "\n",
    "   - The queue should have a name that is provided as a parameter of its constructor.\n",
    "   - The queue should have a size that is provided as a parameter of its constructor and if we try to insert more values than its size, it raises a custom exception called `QueueOutOfRangeException` (BONUS) or raises `IndexError` with a message.\n",
    "   - The queue keeps track of all queue instances that have been created through this class and we can get any queue of them using its name.\n",
    "   - The queue class should have two class methods called `save` and `load` which saves all created queue instances to a file and loads them when needed."
   ]
  },
  {
   "cell_type": "code",
   "execution_count": null,
   "metadata": {},
   "outputs": [],
   "source": []
  }
 ],
 "metadata": {
  "kernelspec": {
   "display_name": "Python 3",
   "language": "python",
   "name": "python3"
  },
  "language_info": {
   "codemirror_mode": {
    "name": "ipython",
    "version": 3
   },
   "file_extension": ".py",
   "mimetype": "text/x-python",
   "name": "python",
   "nbconvert_exporter": "python",
   "pygments_lexer": "ipython3",
   "version": "3.11.9"
  }
 },
 "nbformat": 4,
 "nbformat_minor": 2
}
