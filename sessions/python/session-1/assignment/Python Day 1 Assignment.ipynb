{
 "cells": [
  {
   "cell_type": "markdown",
   "metadata": {},
   "source": [
    "# Assignment Questions\n"
   ]
  },
  {
   "cell_type": "markdown",
   "metadata": {},
   "source": [
    "## Question 1\n",
    "\n",
    "> Write a program that counts up the number of vowels `[a, e, i, o, u]` contained in the string.\n"
   ]
  },
  {
   "cell_type": "code",
   "execution_count": 4,
   "metadata": {},
   "outputs": [
    {
     "name": "stdout",
     "output_type": "stream",
     "text": [
      "2\n",
      "3\n"
     ]
    }
   ],
   "source": [
    "def getNVowels(string: str):\n",
    "    n = 0\n",
    "    for char in string:\n",
    "        if (char in ['a', 'e', 'i', 'o', 'u']):\n",
    "            n += 1\n",
    "    return n\n",
    "\n",
    "\n",
    "print(getNVowels(\"hello\"))\n",
    "print(getNVowels(\"hello world\"))"
   ]
  },
  {
   "cell_type": "markdown",
   "metadata": {},
   "source": [
    "## Question 2\n",
    "\n",
    "> Write a function that accepts two arguments (`length`, `start`) to generate an array of a specific length filled with integer numbers increased by one from start.\n"
   ]
  },
  {
   "cell_type": "code",
   "execution_count": 5,
   "metadata": {},
   "outputs": [
    {
     "name": "stdout",
     "output_type": "stream",
     "text": [
      "[3, 4, 5, 6, 7]\n"
     ]
    }
   ],
   "source": [
    "def arrGen(length, start):\n",
    "    return [i for i in range(start, start + length)]\n",
    "\n",
    "\n",
    "print(arrGen(5, 3))"
   ]
  },
  {
   "cell_type": "markdown",
   "metadata": {},
   "source": [
    "## Question 3\n",
    "\n",
    "> Fill an array of 5 elements from the user, sort it in descending and ascending orders then display the output.\n"
   ]
  },
  {
   "cell_type": "code",
   "execution_count": 6,
   "metadata": {},
   "outputs": [
    {
     "ename": "ValueError",
     "evalue": "invalid literal for int() with base 10: ''",
     "output_type": "error",
     "traceback": [
      "\u001b[0;31m---------------------------------------------------------------------------\u001b[0m",
      "\u001b[0;31mValueError\u001b[0m                                Traceback (most recent call last)",
      "Cell \u001b[0;32mIn[6], line 10\u001b[0m\n\u001b[1;32m      6\u001b[0m     arrRev \u001b[38;5;241m=\u001b[39m \u001b[38;5;28msorted\u001b[39m(arr, reverse\u001b[38;5;241m=\u001b[39m\u001b[38;5;28;01mTrue\u001b[39;00m)\n\u001b[1;32m      7\u001b[0m     \u001b[38;5;28;01mreturn\u001b[39;00m arr, arrRev\n\u001b[0;32m---> 10\u001b[0m \u001b[38;5;28mprint\u001b[39m(\u001b[43mgetArrayItems\u001b[49m\u001b[43m(\u001b[49m\u001b[43m)\u001b[49m)\n",
      "Cell \u001b[0;32mIn[6], line 4\u001b[0m, in \u001b[0;36mgetArrayItems\u001b[0;34m()\u001b[0m\n\u001b[1;32m      2\u001b[0m arr \u001b[38;5;241m=\u001b[39m []\n\u001b[1;32m      3\u001b[0m \u001b[38;5;28;01mfor\u001b[39;00m i \u001b[38;5;129;01min\u001b[39;00m \u001b[38;5;28mrange\u001b[39m(\u001b[38;5;241m5\u001b[39m):\n\u001b[0;32m----> 4\u001b[0m     arr\u001b[38;5;241m.\u001b[39mappend(\u001b[38;5;28;43mint\u001b[39;49m\u001b[43m(\u001b[49m\u001b[38;5;28;43minput\u001b[39;49m\u001b[43m(\u001b[49m\u001b[38;5;124;43m\"\u001b[39;49m\u001b[38;5;124;43mEnter array item:\u001b[39;49m\u001b[38;5;124;43m\"\u001b[39;49m\u001b[43m)\u001b[49m\u001b[43m)\u001b[49m)\n\u001b[1;32m      5\u001b[0m arr \u001b[38;5;241m=\u001b[39m \u001b[38;5;28msorted\u001b[39m(arr)\n\u001b[1;32m      6\u001b[0m arrRev \u001b[38;5;241m=\u001b[39m \u001b[38;5;28msorted\u001b[39m(arr, reverse\u001b[38;5;241m=\u001b[39m\u001b[38;5;28;01mTrue\u001b[39;00m)\n",
      "\u001b[0;31mValueError\u001b[0m: invalid literal for int() with base 10: ''"
     ]
    }
   ],
   "source": [
    "def getArrayItems():\n",
    "    arr = []\n",
    "    for i in range(5):\n",
    "        arr.append(int(input(\"Enter array item:\")))\n",
    "    arr = sorted(arr)\n",
    "    arrRev = sorted(arr, reverse=True)\n",
    "    return arr, arrRev\n",
    "\n",
    "\n",
    "print(getArrayItems())"
   ]
  },
  {
   "cell_type": "markdown",
   "metadata": {},
   "source": [
    "## Question 4\n",
    "\n",
    "> Write a function that takes a number as an argument and if the number is divisible by 3 return `Fizz`, if it is divisible by 5 return `Buzz`, and if it is divisible by both return `FizzBuzz`.\n"
   ]
  },
  {
   "cell_type": "code",
   "execution_count": 4,
   "metadata": {},
   "outputs": [
    {
     "name": "stdout",
     "output_type": "stream",
     "text": [
      "Fizz\n",
      "Buzz\n",
      "FizzBuzz\n",
      "Nothing\n"
     ]
    }
   ],
   "source": [
    "def fizbuz(n):\n",
    "    res = \"\"\n",
    "    if (n % 3 == 0):\n",
    "        res += 'Fizz'\n",
    "    if (n % 5 == 0):\n",
    "        res += 'Buzz'\n",
    "    if (res == \"\"):\n",
    "        return \"Nothing\"\n",
    "    return res\n",
    "\n",
    "\n",
    "print(fizbuz(3))\n",
    "print(fizbuz(20))\n",
    "print(fizbuz(15))\n",
    "print(fizbuz(17))"
   ]
  },
  {
   "cell_type": "markdown",
   "metadata": {},
   "source": [
    "## Question 5\n",
    "\n",
    "> Write a Python function that checks whether a passed string is palindrome or not.\n",
    ">\n",
    "> Note: A palindrome is a word, phrase, or sequence that reads the same backward as forward, e.g., `madam` or `nurses run` (ignoring the spaces).\n"
   ]
  },
  {
   "cell_type": "code",
   "execution_count": 5,
   "metadata": {},
   "outputs": [
    {
     "name": "stdout",
     "output_type": "stream",
     "text": [
      "False\n",
      "True\n",
      "True\n"
     ]
    }
   ],
   "source": [
    "def checkPalindrom(s: str):\n",
    "    s = s.replace(\" \", \"\")\n",
    "    sRev = s[::-1]\n",
    "    return (s == sRev)\n",
    "\n",
    "\n",
    "print(checkPalindrom(\"hello world\"))\n",
    "print(checkPalindrom(\"madam\"))\n",
    "print(checkPalindrom(\"nurses run\"))"
   ]
  },
  {
   "cell_type": "markdown",
   "metadata": {},
   "source": [
    "## Question 6\n",
    "\n",
    "> Write a function that takes a string and prints the longest alphabetical ordered substring occurred.\n",
    ">\n",
    "> For example, if the string is `abdulrahman` then the output is: Longest substring in alphabetical order is: `abdu`.\n"
   ]
  },
  {
   "cell_type": "code",
   "execution_count": 3,
   "metadata": {},
   "outputs": [
    {
     "name": "stdout",
     "output_type": "stream",
     "text": [
      "abcdef\n"
     ]
    }
   ],
   "source": [
    "def longestSubstr(s):\n",
    "    maxSubstr = \"\"\n",
    "    currentSubstr = \"\"\n",
    "\n",
    "    for i in range(len(s)):\n",
    "        if i == 0 or s[i] >= s[i - 1]:\n",
    "            currentSubstr += s[i]\n",
    "        else:\n",
    "            if len(currentSubstr) > len(maxSubstr):\n",
    "                maxSubstr = currentSubstr\n",
    "            currentSubstr = s[i]\n",
    "\n",
    "    if len(currentSubstr) > len(maxSubstr):\n",
    "        maxSubstr = currentSubstr\n",
    "\n",
    "    return maxSubstr\n",
    "\n",
    "\n",
    "print(longestSubstr(\"abdulrahmanabcdef\"))"
   ]
  }
 ],
 "metadata": {
  "kernelspec": {
   "display_name": "Python 3",
   "language": "python",
   "name": "python3"
  },
  "language_info": {
   "codemirror_mode": {
    "name": "ipython",
    "version": 3
   },
   "file_extension": ".py",
   "mimetype": "text/x-python",
   "name": "python",
   "nbconvert_exporter": "python",
   "pygments_lexer": "ipython3",
   "version": "3.11.9"
  }
 },
 "nbformat": 4,
 "nbformat_minor": 2
}
