{
 "cells": [
  {
   "cell_type": "markdown",
   "metadata": {},
   "source": [
    "# Python Day 3 Assignment\n"
   ]
  },
  {
   "cell_type": "markdown",
   "metadata": {},
   "source": [
    "## Question 1\n",
    "\n",
    "> Write a Python program to read a file line by line and store it into a list.\n"
   ]
  },
  {
   "cell_type": "code",
   "execution_count": 1,
   "metadata": {},
   "outputs": [
    {
     "name": "stdout",
     "output_type": "stream",
     "text": [
      "['python\\n', 'web dev\\n', 'day 3']\n"
     ]
    }
   ],
   "source": [
    "f = open(\"../readfile\", \"r\")\n",
    "l = [line for line in f]\n",
    "print(l)"
   ]
  },
  {
   "cell_type": "markdown",
   "metadata": {},
   "source": [
    "## Question 2\n",
    "\n",
    "> Create a list of strings, add to it your name, then write the list to a new file.\n"
   ]
  },
  {
   "cell_type": "code",
   "execution_count": 2,
   "metadata": {},
   "outputs": [],
   "source": [
    "name = \"Mohamed\"\n",
    "string_list = [\"Hello\", \"World\", \"Python\", \"Programming\"]\n",
    "string_list.append(name)\n",
    "string_res = \"\\n\".join(string_list)\n",
    "# if the file is not there it needs to be run twice that is because we didn't close the file\n",
    "f = open(\"./output\", \"w\")\n",
    "f.write(string_res)\n",
    "f.close()"
   ]
  },
  {
   "cell_type": "markdown",
   "metadata": {},
   "source": [
    "## Question 3\n",
    "\n",
    "> Create a package directory called `Calculator` and add a file called `my_functions` that has the following functions:\n",
    ">\n",
    "> - Sum Function\n",
    "> - Subtract Function\n",
    "> - Divide Function\n",
    "> - Multiply Function\n"
   ]
  },
  {
   "cell_type": "code",
   "execution_count": 3,
   "metadata": {},
   "outputs": [
    {
     "name": "stdout",
     "output_type": "stream",
     "text": [
      "-1\n",
      "7\n",
      "12\n",
      "0.75\n"
     ]
    }
   ],
   "source": [
    "from Calculator.my_functions import *\n",
    "\n",
    "print(subtract(3, 4))\n",
    "print(sum(3, 4))\n",
    "print(multiply(3, 4))\n",
    "print(divide(3, 4))"
   ]
  },
  {
   "cell_type": "markdown",
   "metadata": {},
   "source": [
    "## Question 4\n",
    "\n",
    "> Use the created package in Python code that takes input operand from the user:\n",
    ">\n",
    "> - 0 $\\to$ Sum\n",
    "> - 1 $\\to$ Subtract\n",
    "> - 2 $\\to$ Divide\n",
    "> - 3 $\\to$ Multiply\n",
    ">\n",
    "> If one of the two numbers is zero and the operand is subtract, raise a `ValueError` with the message \"subtracting zero from Number\".\n",
    ">\n",
    "> If one of the two numbers is zero and the operand is divide, raise a `ZeroDivisionError` with the message \"can't divide with zero\".\n",
    ">\n",
    "> If one of the two numbers is zero and the operand is multiply, raise a `ValueError` with the message \"Multiply with Zero\".\n"
   ]
  },
  {
   "cell_type": "code",
   "execution_count": 4,
   "metadata": {},
   "outputs": [
    {
     "name": "stdout",
     "output_type": "stream",
     "text": [
      "ZeroDivisionError: can't divide with zero\n"
     ]
    }
   ],
   "source": [
    "functions = {0: sum, 1: subtract, 2: divide, 3: multiply}\n",
    "\n",
    "try:\n",
    "    op = int(input(\"Enter operand (0:sum, 1:subtract, 2:divide, 3:multiply): \"))\n",
    "    if op not in functions:\n",
    "        raise ValueError(\"Invalid operand\")\n",
    "\n",
    "    num1 = float(input(\"Enter first number: \"))\n",
    "    num2 = float(input(\"Enter second number: \"))\n",
    "\n",
    "    if op == 1 and (num1 == 0 or num2 == 0):\n",
    "        raise ValueError(\"subtracting zero from Number\")\n",
    "    if op == 2 and num2 == 0:\n",
    "        raise ZeroDivisionError(\"can't divide with zero\")\n",
    "    if op == 3 and (num1 == 0 or num2 == 0):\n",
    "        raise ValueError(\"Multiply with Zero\")\n",
    "\n",
    "    result = functions[op](num1, num2)\n",
    "    print(f\"Result: {result}\")\n",
    "except ValueError as ve:\n",
    "    print(f\"ValueError: {ve}\")\n",
    "except ZeroDivisionError as ze:\n",
    "    print(f\"ZeroDivisionError: {ze}\")"
   ]
  },
  {
   "cell_type": "markdown",
   "metadata": {},
   "source": [
    "## Extra Problem 1\n",
    "\n",
    "> Write a function in Python that accepts two string parameters.\n",
    ">\n",
    "> - The first parameter will be a string of characters.\n",
    "> - The second parameter will be the same string of characters, but they'll be in a different order and have one extra character.\n",
    ">\n",
    "> The function should return that extra character.\n",
    ">\n",
    "> _Example:_\n",
    ">\n",
    "> - If the first parameter is `eueiieo` and the second is `eueiiedo`, then the function should return `d`.\n"
   ]
  },
  {
   "cell_type": "code",
   "execution_count": 21,
   "metadata": {},
   "outputs": [
    {
     "name": "stdout",
     "output_type": "stream",
     "text": [
      "z\n",
      "d\n",
      "2\n"
     ]
    }
   ],
   "source": [
    "def getExtraChar(s1, s2):\n",
    "    s1 = sorted(s1)\n",
    "    s2 = sorted(s2)\n",
    "    while True:\n",
    "        if min(len(s1), len(s2)) == 0:\n",
    "            return s1[0] if len(s1) > len(s2) else s2[0]\n",
    "        if s1[0] == s2[0]:\n",
    "            s1.pop(0)\n",
    "            s2.pop(0)\n",
    "        else:\n",
    "            if len(s1) > len(s2):\n",
    "                return s1[0]\n",
    "            else:\n",
    "                return s2[0]\n",
    "\n",
    "\n",
    "print(getExtraChar(\"eueiieoz\", \"eueiieo\"))\n",
    "print(getExtraChar(\"eueiieod\", \"eueiieo\"))\n",
    "print(getExtraChar(\"eueiieod\", \"eueii2eod\"))"
   ]
  },
  {
   "cell_type": "markdown",
   "metadata": {},
   "source": [
    "## Extra Problem 2\n",
    "\n",
    "> Write a function that accepts a number as a parameter.\n",
    ">\n",
    "> - The function should return a number that's the difference between the largest and smallest numbers that the digits can form in the number.\n",
    ">\n",
    "> _Example:_\n",
    ">\n",
    "> - If the parameter is `\"213\"`, the function should return `\"198\"`, which is the result of `123` subtracted from `321`.\n"
   ]
  },
  {
   "cell_type": "code",
   "execution_count": 6,
   "metadata": {},
   "outputs": [
    {
     "name": "stdout",
     "output_type": "stream",
     "text": [
      "198\n"
     ]
    }
   ],
   "source": [
    "def getDifference(number):\n",
    "    num_str = str(number)\n",
    "\n",
    "    smallest_num = int(\"\".join(sorted(num_str)))\n",
    "    largest_num = int(\"\".join(sorted(num_str, reverse=True)))\n",
    "\n",
    "    difference = largest_num - smallest_num\n",
    "    return difference\n",
    "\n",
    "\n",
    "number = 213\n",
    "print(getDifference(number))"
   ]
  }
 ],
 "metadata": {
  "kernelspec": {
   "display_name": "Python 3",
   "language": "python",
   "name": "python3"
  },
  "language_info": {
   "codemirror_mode": {
    "name": "ipython",
    "version": 3
   },
   "file_extension": ".py",
   "mimetype": "text/x-python",
   "name": "python",
   "nbconvert_exporter": "python",
   "pygments_lexer": "ipython3",
   "version": "3.11.9"
  }
 },
 "nbformat": 4,
 "nbformat_minor": 2
}
