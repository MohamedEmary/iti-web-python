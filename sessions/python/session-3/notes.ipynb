{
 "cells": [
  {
   "cell_type": "markdown",
   "metadata": {},
   "source": [
    "# Python Day 3\n"
   ]
  },
  {
   "cell_type": "markdown",
   "metadata": {},
   "source": [
    "## Modules & Packages\n"
   ]
  },
  {
   "cell_type": "code",
   "execution_count": 1,
   "metadata": {},
   "outputs": [],
   "source": [
    "# import module\n",
    "from module import *\n",
    "import module as m\n",
    "from module import isPalindrome as p"
   ]
  },
  {
   "cell_type": "code",
   "execution_count": 2,
   "metadata": {},
   "outputs": [
    {
     "name": "stdout",
     "output_type": "stream",
     "text": [
      "True\n",
      "True\n",
      "cba\n"
     ]
    }
   ],
   "source": [
    "# module.isPalindrome('radar')\n",
    "print(isPalindrome('radar'))\n",
    "print(p('radar'))\n",
    "print(getReverse(\"abc\"))"
   ]
  },
  {
   "cell_type": "markdown",
   "metadata": {},
   "source": [
    "Package (folder) $\\to$ Module\n",
    "\n",
    "`from pkg_name.mod_name import block_name`\n",
    "\n",
    "<!--\n",
    "```plantuml\n",
    "@startmindmap\n",
    "' top to bottom direction\n",
    "* Python Errors\n",
    "** Syntax Error\n",
    "** Logical Error\n",
    "** Runtime Error\n",
    "@endmindmap\n",
    "``` -->\n",
    "\n",
    "Python Errors:\n",
    "\n",
    "- Syntax Error\n",
    "- Logical Error\n",
    "- Runtime Error\n",
    "\n",
    "Errors detected during execution are called `Exceptions`\n"
   ]
  },
  {
   "cell_type": "code",
   "execution_count": 3,
   "metadata": {},
   "outputs": [],
   "source": [
    "# print(fname) # NameError which is a runtime error"
   ]
  },
  {
   "cell_type": "markdown",
   "metadata": {},
   "source": [
    "## Exception Handling\n"
   ]
  },
  {
   "cell_type": "markdown",
   "metadata": {},
   "source": [
    "```python\n",
    "try:  \t# Put the code that you want to handle its exceptions\n",
    "\t\tdoSomething()\n",
    "except: # Handle the exception if it raised in the try clause\n",
    "\t\tdoExcept()\n",
    "else:   # Run when code in try clause run without raising exceptions\n",
    "\t\tdoElse()\n",
    "finally: # Put the code that you want to run always if there is an exception or not.\n",
    "\t\tdoFinally()\n",
    "```\n"
   ]
  },
  {
   "cell_type": "code",
   "execution_count": 4,
   "metadata": {},
   "outputs": [
    {
     "name": "stdout",
     "output_type": "stream",
     "text": [
      "successfuly based with output False\n",
      "block passed\n",
      "finished\n"
     ]
    }
   ],
   "source": [
    "x = int(input(\"enter valid number\"))\n",
    "try:\n",
    "    out = isEven(x)\n",
    "except:\n",
    "    print('Error Thrown and handeled')\n",
    "    out = isEven(int(x))\n",
    "    print(out)\n",
    "else:\n",
    "    print(f'successfuly based with output {out}')\n",
    "finally:\n",
    "    print('block passed')\n",
    "\n",
    "print('finished')"
   ]
  },
  {
   "cell_type": "markdown",
   "metadata": {},
   "source": [
    "Most Used Exceptions:\n",
    "\n",
    "- `AssertionError` - Raised when an assert statement fails.\n",
    "- `TypeError` - Raised when an operation or function is applied to an object of an inappropriate type.\n",
    "- `IndexError` - Raised when a sequence subscript is out of range.\n",
    "- `NameError` - Raised when a local or global name is not found.\n",
    "- `ValueError` - Raised when a built-in operation or function receives an argument that has the right type but an inappropriate value.\n",
    "- `ZeroDivisionError` - Raised when the second argument of a division or modulo operation is zero.\n",
    "\n",
    "To Raise Exception: `raise ErrorName(error_message)`\n"
   ]
  },
  {
   "cell_type": "markdown",
   "metadata": {},
   "source": [
    "Program to print the reciprocal of even numbers only, handle zero as `ZeroException` and Throw the Exception and Odd as `ValueError`.\n"
   ]
  },
  {
   "cell_type": "code",
   "execution_count": 5,
   "metadata": {},
   "outputs": [
    {
     "name": "stdout",
     "output_type": "stream",
     "text": [
      "4 -> 0.25\n",
      "None\n",
      "Odd numbers are not allowed\n"
     ]
    }
   ],
   "source": [
    "def print_reciprocal(number):\n",
    "    if number == 0:\n",
    "        raise ZeroDivisionError(\"Zero is not allowed\")\n",
    "    elif number % 2 != 0:\n",
    "        raise ValueError(\"Odd numbers are not allowed\")\n",
    "    else:\n",
    "        print(f\"{number} -> {1/number}\")\n",
    "\n",
    "\n",
    "# Test cases\n",
    "try:\n",
    "    print(print_reciprocal(4))\n",
    "    print(print_reciprocal(3))\n",
    "    print(print_reciprocal(0))  # will\n",
    "except ZeroDivisionError as zde:\n",
    "    print(zde)\n",
    "except ValueError as ve:\n",
    "    print(ve)"
   ]
  },
  {
   "cell_type": "markdown",
   "metadata": {},
   "source": [
    "## File Handling\n"
   ]
  },
  {
   "cell_type": "markdown",
   "metadata": {},
   "source": [
    "- `r` - Open Files for reading only\n",
    "- `w` - Open Files for writing only\n",
    "- `a` - Open Files for appending\n",
    "- `r+` - Open Files for reading and writing\n",
    "- `rb` - Open Files for reading binary files\n",
    "- `rb+` - Open Files for reading and writing binary files\n",
    "\n",
    "<!-- TODO: review this -->\n"
   ]
  },
  {
   "cell_type": "markdown",
   "metadata": {},
   "source": [
    "The `open` function waits until an action is performed on the file, then it closes it, so you have to reopen it again each time you want to perform an action on it.\n"
   ]
  },
  {
   "cell_type": "code",
   "execution_count": 6,
   "metadata": {},
   "outputs": [
    {
     "name": "stdout",
     "output_type": "stream",
     "text": [
      "<_io.TextIOWrapper name='./readfile' mode='r' encoding='UTF-8'>\n",
      "['python\\n', 'web dev\\n', 'day 3\\n', '\\n', '\\n', 'appending to file\\n', '\\n', '\\n', 'appending to file']\n",
      "==========\n",
      "python\n",
      "web dev\n",
      "day 3\n",
      "\n",
      "\n",
      "appending to file\n",
      "\n",
      "\n",
      "appending to file\n",
      "==========\n",
      "python\n",
      "web dev\n",
      "day 3\n",
      "\n",
      "\n",
      "appending to file\n",
      "\n",
      "\n",
      "appending to file"
     ]
    }
   ],
   "source": [
    "f = open('./readfile', 'r')\n",
    "print(f)\n",
    "print(f.readlines())\n",
    "\n",
    "print('='*10)\n",
    "\n",
    "# f = open('./readfile', 'r')\n",
    "f.seek(0)  # Move the cursor to the beginning of the file\n",
    "\n",
    "print(f.read())\n",
    "\n",
    "print('='*10)\n",
    "\n",
    "# f = open('./readfile', 'r')\n",
    "f.seek(0)  # Move the cursor to the beginning of the file\n",
    "for line in f.readlines():\n",
    "    print(line, end='')"
   ]
  },
  {
   "cell_type": "code",
   "execution_count": 7,
   "metadata": {},
   "outputs": [
    {
     "name": "stdout",
     "output_type": "stream",
     "text": [
      "python\n",
      "web dev\n",
      "day 3\n",
      "\n",
      "\n",
      "appending to file\n",
      "\n",
      "\n",
      "appending to file\n",
      "\n",
      "\n",
      "appending to file\n"
     ]
    }
   ],
   "source": [
    "# Why does it close automatically after read operation, but not after write operation?\n",
    "\n",
    "f = open('./readfile', 'a+')\n",
    "f.write('\\n\\n\\nappending to file')\n",
    "f.seek(0)  # Move the cursor to the beginning of the file\n",
    "print(f.read())\n",
    "f.close()"
   ]
  },
  {
   "cell_type": "markdown",
   "metadata": {},
   "source": [
    "`os`, `math`, `re` libraries\n"
   ]
  },
  {
   "cell_type": "code",
   "execution_count": 8,
   "metadata": {},
   "outputs": [
    {
     "name": "stdout",
     "output_type": "stream",
     "text": [
      "['python\\n', 'web dev\\n', 'day 3\\n', '\\n', '\\n', 'appending to file\\n', '\\n', '\\n', 'appending to file\\n', '\\n', '\\n', 'appending to file']\n"
     ]
    }
   ],
   "source": [
    "with open('./readfile', 'r') as fp:\n",
    "    print(fp.readlines())"
   ]
  },
  {
   "cell_type": "markdown",
   "metadata": {},
   "source": [
    "List instruction: `list_name = [ x for x in range(10) if x % 2 == 0 ]`"
   ]
  },
  {
   "cell_type": "code",
   "execution_count": 9,
   "metadata": {},
   "outputs": [
    {
     "name": "stdout",
     "output_type": "stream",
     "text": [
      "[0, 2, 4, 6, 8]\n"
     ]
    }
   ],
   "source": [
    "list_name = [ x for x in range(10) if x % 2 == 0 ]\n",
    "print(list_name)"
   ]
  }
 ],
 "metadata": {
  "kernelspec": {
   "display_name": "Python 3",
   "language": "python",
   "name": "python3"
  },
  "language_info": {
   "codemirror_mode": {
    "name": "ipython",
    "version": 3
   },
   "file_extension": ".py",
   "mimetype": "text/x-python",
   "name": "python",
   "nbconvert_exporter": "python",
   "pygments_lexer": "ipython3",
   "version": "3.11.9"
  }
 },
 "nbformat": 4,
 "nbformat_minor": 2
}
